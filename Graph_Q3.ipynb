{
  "nbformat": 4,
  "nbformat_minor": 0,
  "metadata": {
    "colab": {
      "provenance": [],
      "gpuType": "T4",
      "authorship_tag": "ABX9TyNYg2AqRSpSeM/0wlkfXmul",
      "include_colab_link": true
    },
    "kernelspec": {
      "name": "python3",
      "display_name": "Python 3"
    },
    "language_info": {
      "name": "python"
    }
  },
  "cells": [
    {
      "cell_type": "markdown",
      "metadata": {
        "id": "view-in-github",
        "colab_type": "text"
      },
      "source": [
        "<a href=\"https://colab.research.google.com/github/nawidadkhah/Graph_Simulation/blob/main/Graph_Q3.ipynb\" target=\"_parent\"><img src=\"https://colab.research.google.com/assets/colab-badge.svg\" alt=\"Open In Colab\"/></a>"
      ]
    },
    {
      "cell_type": "code",
      "execution_count": 2,
      "metadata": {
        "id": "3ginYZqQHo6O"
      },
      "outputs": [],
      "source": [
        "import networkx as nx\n",
        "import numpy as np\n",
        "import random\n",
        "import math"
      ]
    },
    {
      "cell_type": "code",
      "source": [
        "def check_equal(nodes):\n",
        "  node = nodes[0]\n",
        "  for i in nodes:\n",
        "    if i != node:\n",
        "      return False\n",
        "  return True"
      ],
      "metadata": {
        "id": "pkC4s6OqeFkr"
      },
      "execution_count": 8,
      "outputs": []
    },
    {
      "cell_type": "code",
      "source": [
        "def create_graph():\n",
        "  nodes_check = []\n",
        "  G = nx.Graph()\n",
        "\n",
        "  while (len(nodes) != 0):\n",
        "\n",
        "    choose_a_index = random.randint(0, len(nodes))\n",
        "    choose_b_index = random.randint(0, len(nodes))\n",
        "\n",
        "    remove_a = nodes[ choose_a_index - 1 ]\n",
        "    remove_b = nodes[ choose_b_index - 1 ]\n",
        "\n",
        "    flag = check_equal(nodes)\n",
        "    if flag:\n",
        "      break\n",
        "\n",
        "\n",
        "    if len(nodes_check) == 500:\n",
        "      break\n",
        "\n",
        "    if remove_a == remove_b:\n",
        "      continue\n",
        "\n",
        "    if nodes_check.count(remove_a) != True:\n",
        "      nodes_check.append(remove_a)\n",
        "      G.add_node(remove_a,)\n",
        "    if nodes_check.count(remove_b) != True:\n",
        "      nodes_check.append(remove_b)\n",
        "      G.add_node(remove_b)\n",
        "\n",
        "    if not G.has_edge(remove_a, remove_b):\n",
        "      G.add_edge(remove_a, remove_b)\n",
        "      if choose_a_index > choose_b_index:\n",
        "        nodes.pop( choose_a_index - 1 )\n",
        "        nodes.pop( choose_b_index - 1 )\n",
        "      else:\n",
        "        nodes.pop( choose_b_index - 1 )\n",
        "        nodes.pop( choose_a_index - 1 )\n",
        "\n",
        "\n",
        "  return nx.algebraic_connectivity(G)"
      ],
      "metadata": {
        "id": "QZhuiSXpTQWy"
      },
      "execution_count": 11,
      "outputs": []
    },
    {
      "cell_type": "code",
      "source": [
        "n = 500\n",
        "d1 = 2\n",
        "d2 = 6\n",
        "\n",
        "p_list = [1, .75, .5, .25, .125]\n",
        "algeb_con = []\n",
        "for i in range(100):\n",
        "  nodes = []\n",
        "  p = random.choice(p_list)\n",
        "  n1 = math.floor(n * (1 - p))\n",
        "  n2 = n - n1\n",
        "\n",
        "  for i in range(1, n1 + 1):\n",
        "   nodes += [i for x in range(d1)]\n",
        "\n",
        "  for i in range(n1 + 1, n1 + n2 + 1):\n",
        "   nodes += [i for x in range(d2)]\n",
        "\n",
        "  temp = create_graph()\n",
        "  algeb_con.append(temp)\n",
        "\n",
        "algeb_con"
      ],
      "metadata": {
        "colab": {
          "base_uri": "https://localhost:8080/"
        },
        "id": "3G5wM8NjH_l8",
        "outputId": "ca169de6-d274-47b3-ee66-54aab30e0507"
      },
      "execution_count": 13,
      "outputs": [
        {
          "output_type": "execute_result",
          "data": {
            "text/plain": [
              "[0.0,\n",
              " 0.0,\n",
              " 0.0,\n",
              " 0.48356697057073295,\n",
              " 0.45755849599014814,\n",
              " 0.16097536701488613,\n",
              " 0.49754136184317144,\n",
              " 0.2983262507426069,\n",
              " 0.298450749763798,\n",
              " 0.23261901302561222,\n",
              " 0.060277307937498324,\n",
              " 0.4361493907670742,\n",
              " 0.22314668672931456,\n",
              " 0.31907991862101037,\n",
              " 0.06947326878227134,\n",
              " 0.036735603491837535,\n",
              " 0.22746140077110222,\n",
              " 0.0,\n",
              " 0.3687236998471107,\n",
              " 0.2699721408869667,\n",
              " 0.028293874994862696,\n",
              " 0.27979018249201504,\n",
              " 0.2967929280413145,\n",
              " 0.0,\n",
              " 0.0,\n",
              " 0.0,\n",
              " 0.05324857109310751,\n",
              " 0.31162997740861725,\n",
              " 0.3167455983276296,\n",
              " 0.15890636300851396,\n",
              " 0.15387183589248346,\n",
              " 0.05224994366248121,\n",
              " 0.0,\n",
              " 0.04974994057669236,\n",
              " 0.0,\n",
              " 0.07268563678460813,\n",
              " 0.24436656397705267,\n",
              " 0.29132923732658866,\n",
              " 0.03180010284754175,\n",
              " 0.2822485724310091,\n",
              " 0.10455122644853361,\n",
              " 0.48653381039116084,\n",
              " 0.0,\n",
              " 0.19973335514639068,\n",
              " 0.2409286315119446,\n",
              " 0.45292833898151763,\n",
              " 0.0,\n",
              " 0.0,\n",
              " 0.1734550825754289,\n",
              " 0.0443173936415344,\n",
              " 0.0,\n",
              " 0.0,\n",
              " 0.0,\n",
              " 0.0,\n",
              " 0.0,\n",
              " 0.07077300535455498,\n",
              " 0.02863545932496328,\n",
              " 0.0,\n",
              " 0.0,\n",
              " 0.0,\n",
              " 0.3612540822503794,\n",
              " 0.01599846876809744,\n",
              " 0.3161863928680925,\n",
              " 0.48896505597862355,\n",
              " 0.0,\n",
              " 0.2913425831095403,\n",
              " 0.3133882063366482,\n",
              " 0.038846736631905424,\n",
              " 0.0,\n",
              " 0.0,\n",
              " 0.07171791812498918,\n",
              " 0.0,\n",
              " 0.30860326748349504,\n",
              " 0.5929409094895205,\n",
              " 0.2525656950682391,\n",
              " 0.014276298877782506,\n",
              " 0.0,\n",
              " 0.2398730735307242,\n",
              " 0.03178153183366433,\n",
              " 0.26408259941817935,\n",
              " 0.5975006627358874,\n",
              " 0.21843019202411537,\n",
              " 0.0,\n",
              " 0.4010633060725119,\n",
              " 0.16994312365253797,\n",
              " 0.06939029631080942,\n",
              " 0.0,\n",
              " 0.48767035137520953,\n",
              " 0.42620719636958176,\n",
              " 0.399626734750882,\n",
              " 0.0,\n",
              " 0.0,\n",
              " 0.0,\n",
              " 0.0,\n",
              " 0.026491613894390652,\n",
              " 0.0,\n",
              " 0.16595628218354425,\n",
              " 0.0,\n",
              " 0.3164570966183995,\n",
              " 0.5787394362284164]"
            ]
          },
          "metadata": {},
          "execution_count": 13
        }
      ]
    }
  ]
}