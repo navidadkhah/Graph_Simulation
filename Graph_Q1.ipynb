{
  "nbformat": 4,
  "nbformat_minor": 0,
  "metadata": {
    "colab": {
      "provenance": [],
      "authorship_tag": "ABX9TyOanJvMugBZE85ddeL5RtfQ",
      "include_colab_link": true
    },
    "kernelspec": {
      "name": "python3",
      "display_name": "Python 3"
    },
    "language_info": {
      "name": "python"
    }
  },
  "cells": [
    {
      "cell_type": "markdown",
      "metadata": {
        "id": "view-in-github",
        "colab_type": "text"
      },
      "source": [
        "<a href=\"https://colab.research.google.com/github/nawidadkhah/Graph_Simulation/blob/main/Graph_Q1.ipynb\" target=\"_parent\"><img src=\"https://colab.research.google.com/assets/colab-badge.svg\" alt=\"Open In Colab\"/></a>"
      ]
    },
    {
      "cell_type": "code",
      "execution_count": 1,
      "metadata": {
        "colab": {
          "base_uri": "https://localhost:8080/"
        },
        "id": "sCqJ1DME6jPi",
        "outputId": "a0d44dc7-062b-46aa-ee41-c28136aa4758"
      },
      "outputs": [
        {
          "output_type": "stream",
          "name": "stdout",
          "text": [
            "Looking in indexes: https://pypi.org/simple, https://us-python.pkg.dev/colab-wheels/public/simple/\n",
            "Requirement already satisfied: networkx in /usr/local/lib/python3.10/dist-packages (3.1)\n"
          ]
        }
      ],
      "source": [
        "!pip install networkx"
      ]
    },
    {
      "cell_type": "code",
      "source": [
        "import networkx as nx\n",
        "import numpy as np\n",
        "import random"
      ],
      "metadata": {
        "id": "4XySFtRE6lNl"
      },
      "execution_count": 2,
      "outputs": []
    },
    {
      "cell_type": "code",
      "source": [
        "# algebratic connectivity\n",
        "node = 100\n",
        "graph =[ [nx.erdos_renyi_graph(node, .5)],\n",
        "         [nx.watts_strogatz_graph(node, 6, .3)],\n",
        "         [nx.barabasi_albert_graph(node, 3)]]\n",
        "\n",
        "algebratic_connectivity = []\n",
        "for i in range(len(graph)):\n",
        "  algebratic_connectivity.append(nx.algebraic_connectivity(graph[i][0]))\n",
        "\n",
        "print(\"algebratic connectivity:\")\n",
        "print(\"\\nER : \" + str(algebratic_connectivity[0]),\n",
        "      \"\\nWS : \" + str(algebratic_connectivity[1]),\n",
        "      \"\\nBA : \" + str(algebratic_connectivity[2]))"
      ],
      "metadata": {
        "colab": {
          "base_uri": "https://localhost:8080/"
        },
        "id": "B876yiUU6nb0",
        "outputId": "40fce148-cf99-47f6-e789-86c7c5140a83"
      },
      "execution_count": 3,
      "outputs": [
        {
          "output_type": "stream",
          "name": "stdout",
          "text": [
            "algebratic connectivity:\n",
            "\n",
            "ER : 36.005023073357265 \n",
            "WS : 0.6718933441471795 \n",
            "BA : 1.3890035024433378\n"
          ]
        }
      ]
    },
    {
      "cell_type": "code",
      "source": [
        "# natural connectivity\n",
        "\n",
        "feature_connectivity = []\n",
        "\n",
        "for i in range(len(graph)):\n",
        "  temp = nx.laplacian_spectrum(graph[i][0], weight='weight')\n",
        "  feature_connectivity.append(temp[1])\n",
        "print(\"natural connectivity:\")\n",
        "print(\"\\nER : \" + str(feature_connectivity[0]),\n",
        "      \"\\nWS : \" + str(feature_connectivity[1]),\n",
        "      \"\\nBA : \" + str(feature_connectivity[2]))"
      ],
      "metadata": {
        "colab": {
          "base_uri": "https://localhost:8080/"
        },
        "id": "IKe4SEKE6o1v",
        "outputId": "b21e57bb-f971-4b88-8aca-353462c091c6"
      },
      "execution_count": 4,
      "outputs": [
        {
          "output_type": "stream",
          "name": "stdout",
          "text": [
            "natural connectivity:\n",
            "\n",
            "ER : 36.00502307335725 \n",
            "WS : 0.6718933441471782 \n",
            "BA : 1.3890035024433027\n"
          ]
        }
      ]
    },
    {
      "cell_type": "code",
      "source": [
        "# Spectral gap\n",
        "spectral_gap = []\n",
        "for i in range(len(graph)):\n",
        "  L = nx.normalized_laplacian_matrix(graph[i][0])\n",
        "  e = np.linalg.eigvals(L.toarray())\n",
        "  delta_y = e[len(e)-1] - e[len(e)-2]\n",
        "  spectral_gap.append(delta_y)\n",
        "\n",
        "print(\"Spectral gap:\")\n",
        "print(\"\\nER : \" + str(spectral_gap[0]),\n",
        "      \"\\nWS : \" + str(spectral_gap[1]),\n",
        "      \"\\nBA : \" + str(spectral_gap[2]))\n"
      ],
      "metadata": {
        "colab": {
          "base_uri": "https://localhost:8080/"
        },
        "id": "Fsnygz876pUc",
        "outputId": "ff8d4976-5b3c-4fc5-ffbe-81a43200f11b"
      },
      "execution_count": 5,
      "outputs": [
        {
          "output_type": "stream",
          "name": "stdout",
          "text": [
            "Spectral gap:\n",
            "\n",
            "ER : -0.03005938194266511 \n",
            "WS : -0.041860797456070076 \n",
            "BA : 4.440892098500626e-16\n"
          ]
        }
      ]
    },
    {
      "cell_type": "code",
      "source": [
        "# energy of a graph\n",
        "energy_of_graph = []\n",
        "for i in range(len(graph)):\n",
        "  L = nx.normalized_laplacian_matrix(graph[i][0])\n",
        "  e = np.linalg.eigvals(L.toarray())\n",
        "  sum = 0\n",
        "  for j in range(len(e)):\n",
        "     sum += abs(e[j])\n",
        "  energy_of_graph.append(sum)\n",
        "\n",
        "\n",
        "print(\"Energy of graph:\")\n",
        "print(\"\\nER : \" + str(energy_of_graph[0]),\n",
        "      \"\\nWS : \" + str(energy_of_graph[1]),\n",
        "      \"\\nBA : \" + str(energy_of_graph[2]))"
      ],
      "metadata": {
        "colab": {
          "base_uri": "https://localhost:8080/"
        },
        "id": "0UOXfHyZ6rPQ",
        "outputId": "873c0f61-3799-4cec-ccee-0ef391c07bc6"
      },
      "execution_count": 6,
      "outputs": [
        {
          "output_type": "stream",
          "name": "stdout",
          "text": [
            "Energy of graph:\n",
            "\n",
            "ER : 100.00000000000006 \n",
            "WS : 100.00000000000001 \n",
            "BA : 100.00000000000007\n"
          ]
        }
      ]
    },
    {
      "cell_type": "code",
      "source": [
        "# laplacian energy of a graph\n",
        "laplacian_energy_of_graph = []\n",
        "for i in range(len(graph)):\n",
        "  temp = nx.laplacian_spectrum(graph[i][0])\n",
        "  edges = graph[i][0].number_of_edges()\n",
        "  list_yi = []\n",
        "  for j in range(len(temp)):\n",
        "     yi = temp[j] - ( 2 * edges / node )\n",
        "     list_yi.append(yi)\n",
        "  sum = 0\n",
        "  for k in range(len(list_yi)):\n",
        "    sum += abs(list_yi[k])\n",
        "  laplacian_energy_of_graph.append(sum)\n",
        "\n",
        "\n",
        "print(\"Laplacian Energy of graph:\")\n",
        "print(\"\\nER : \" + str(laplacian_energy_of_graph[0]),\n",
        "      \"\\nWS : \" + str(laplacian_energy_of_graph[1]),\n",
        "      \"\\nBA : \" + str(laplacian_energy_of_graph[2]))"
      ],
      "metadata": {
        "colab": {
          "base_uri": "https://localhost:8080/"
        },
        "id": "pZPcBtKw6txv",
        "outputId": "500693e6-5124-4024-def2-7f6d2d2ae7a0"
      },
      "execution_count": 7,
      "outputs": [
        {
          "output_type": "stream",
          "name": "stdout",
          "text": [
            "Laplacian Energy of graph:\n",
            "\n",
            "ER : 610.704219837525 \n",
            "WS : 221.23939902416254 \n",
            "BA : 367.5628188917742\n"
          ]
        }
      ]
    }
  ]
}