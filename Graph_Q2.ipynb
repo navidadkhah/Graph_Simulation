{
  "nbformat": 4,
  "nbformat_minor": 0,
  "metadata": {
    "colab": {
      "provenance": [],
      "gpuType": "T4",
      "authorship_tag": "ABX9TyMM0KqLqeD6euh1SWdMimng",
      "include_colab_link": true
    },
    "kernelspec": {
      "name": "python3",
      "display_name": "Python 3"
    },
    "language_info": {
      "name": "python"
    },
    "accelerator": "GPU"
  },
  "cells": [
    {
      "cell_type": "markdown",
      "metadata": {
        "id": "view-in-github",
        "colab_type": "text"
      },
      "source": [
        "<a href=\"https://colab.research.google.com/github/nawidadkhah/Graph_Simulation/blob/main/Graph_Q2.ipynb\" target=\"_parent\"><img src=\"https://colab.research.google.com/assets/colab-badge.svg\" alt=\"Open In Colab\"/></a>"
      ]
    },
    {
      "cell_type": "code",
      "source": [
        "import networkx as nx\n",
        "import numpy as np\n",
        "import random\n",
        "import matplotlib.pyplot as plt"
      ],
      "metadata": {
        "id": "bMeKfjZg0ik1"
      },
      "execution_count": 13,
      "outputs": []
    },
    {
      "cell_type": "code",
      "source": [
        "def find_n2 (n1, d1):\n",
        "  temp = n1 * d1\n",
        "  q = []\n",
        "  for i in range(2, int(temp/2)+1):\n",
        "    if temp % i == 0:\n",
        "      q.append(i)\n",
        "\n",
        "  flag = False\n",
        "  n2 = 0\n",
        "  d2 = 0\n",
        "  while flag == False:\n",
        "   n2 = random.choice(q)\n",
        "   if (n2 >= d1):\n",
        "    flag = True\n",
        "    d2 = int(temp / n2)\n",
        "  return n2, d2"
      ],
      "metadata": {
        "id": "jybCyVZ5aqlO"
      },
      "execution_count": 2,
      "outputs": []
    },
    {
      "cell_type": "code",
      "source": [
        "d1 = random.randint(1, 10)\n",
        "n1 = random.randint(10, 30)\n",
        "n2, d2 = find_n2(n1, d1)\n",
        "\n",
        "# d1 = 2\n",
        "# n1 = 30\n",
        "# n2 = 20\n",
        "# d2 = 3\n",
        "\n",
        "print(\"d1 : \" + str(d1),\n",
        "      \"\\nd2 : \" + str(d2),\n",
        "      \"\\nn1 : \" + str(n1),\n",
        "      \"\\nn2 : \" + str(n2)\n",
        "      )\n",
        "\n",
        "nodes_a = []\n",
        "nodes_b = []\n",
        "for i in range(1, n1 + 1):\n",
        "  nodes_a += [i for x in range(d1)]\n",
        "\n",
        "for i in range(n1 + 1, n1 + n2 + 1):\n",
        "  nodes_b += [i for x in range(d2)]\n",
        "\n",
        "print(len(nodes_a))\n",
        "print(len(nodes_b))\n",
        "print(nodes_a)\n",
        "print(nodes_b)"
      ],
      "metadata": {
        "id": "ZHVhZ0-8PQ3j"
      },
      "execution_count": null,
      "outputs": []
    },
    {
      "cell_type": "code",
      "source": [
        "nodes_check = []\n",
        "check_edge = {}\n",
        "G = nx.Graph()\n",
        "while (len(nodes_a) != 0):\n",
        "\n",
        "  choose_a_index = random.randint(0, len(nodes_a))\n",
        "  choose_b_index = random.randint(0, len(nodes_b))\n",
        "\n",
        "  remove_a = nodes_a[ choose_a_index - 1 ]\n",
        "  remove_b = nodes_b[ choose_b_index - 1 ]\n",
        "\n",
        "  if nodes_check.count(remove_a) != True:\n",
        "    nodes_check.append(remove_a)\n",
        "    G.add_node(remove_a)\n",
        "  if nodes_check.count(remove_b) != True:\n",
        "    nodes_check.append(remove_b)\n",
        "    G.add_node(remove_b)\n",
        "\n",
        "  if not G.has_edge(remove_a, remove_b):\n",
        "    G.add_edge(remove_a, remove_b)\n",
        "    nodes_a.pop( choose_a_index - 1 )\n",
        "    nodes_b.pop( choose_b_index - 1 )\n",
        "\n",
        "\n",
        "color_map = []\n",
        "\n",
        "for node in G:\n",
        "  if node < n1 +1:\n",
        "        color_map.append('yellow')\n",
        "  else:\n",
        "        color_map.append('pink')\n",
        "\n",
        "nx.draw(G, node_color=color_map, with_labels=True)"
      ],
      "metadata": {
        "id": "Hvh5UTfFgXWa"
      },
      "execution_count": null,
      "outputs": []
    },
    {
      "cell_type": "code",
      "source": [
        "\n",
        "degree_sequence = sorted((d for n, d in G.degree()), reverse=True)\n",
        "dmax = max(degree_sequence)\n",
        "\n",
        "fig = plt.figure(\"Degree of a random graph\", figsize=(8, 8))\n",
        "# Create a gridspec for adding subplots of different sizes\n",
        "axgrid = fig.add_gridspec(5, 4)\n",
        "\n",
        "ax1 = fig.add_subplot(axgrid[3:, :2])\n",
        "ax1.plot(degree_sequence, \"b-\", marker=\"o\")\n",
        "ax1.set_title(\"Degree Rank Plot\")\n",
        "ax1.set_ylabel(\"Degree\")\n",
        "ax1.set_xlabel(\"Rank\")\n",
        "fig.tight_layout()\n",
        "plt.show()"
      ],
      "metadata": {
        "colab": {
          "base_uri": "https://localhost:8080/",
          "height": 370
        },
        "id": "cr9kF2wAsTxy",
        "outputId": "2cd9e33f-95f6-4b3e-94f6-77605a3ecf67"
      },
      "execution_count": 14,
      "outputs": [
        {
          "output_type": "display_data",
          "data": {
            "text/plain": [
              "<Figure size 800x800 with 1 Axes>"
            ],
            "image/png": "[encoded data removed]"
          },
          "metadata": {}
        }
      ]
    }
  ]
}